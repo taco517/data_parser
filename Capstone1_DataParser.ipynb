{
 "cells": [
  {
   "cell_type": "code",
   "execution_count": 1,
   "id": "b75ea2d8",
   "metadata": {},
   "outputs": [],
   "source": [
    "import os\n",
    "\n",
    "data_directory = \"/home/tacortiz/Jupyter Notebook/Capstone_1/fpp_likhalabs_capstone\"\n",
    "os.chdir(data_directory)"
   ]
  },
  {
   "cell_type": "code",
   "execution_count": 2,
   "id": "882f4787",
   "metadata": {},
   "outputs": [],
   "source": [
    "def list_count2dict(list_dict):\n",
    "    dictionary = {}\n",
    "    for key in list_dict:\n",
    "        if key in dictionary.keys():\n",
    "            dictionary[key] += 1 \n",
    "        else:\n",
    "            dictionary[key] = 1\n",
    "    return dictionary"
   ]
  },
  {
   "cell_type": "code",
   "execution_count": 3,
   "id": "ddf94d91",
   "metadata": {},
   "outputs": [],
   "source": [
    "def gender_dict(temp_dict):\n",
    "    temp = \"\"\n",
    "    temp_dict = {}\n",
    "\n",
    "    for root, dirs, files in os.walk(data_directory):\n",
    "        for text_path in files:\n",
    "            text = (os.path.join(root,text_path))\n",
    "            with open(text, 'r', encoding='utf-8', errors='ignore') as f:\n",
    "                temp += f.readlines()[8]\n",
    "                        \n",
    "    temp = temp.split(\"\\n\")\n",
    "    temp = [i[4:] for i in temp]\n",
    "    \n",
    "    temp_dict = list_count2dict(temp)\n",
    "    temp_dict.pop('')\n",
    "    temp_dict[\"others\"] = 0\n",
    "    \n",
    "    print(\"gender_dict\")\n",
    "    print(temp_dict)"
   ]
  },
  {
   "cell_type": "code",
   "execution_count": 4,
   "id": "0684f199",
   "metadata": {},
   "outputs": [],
   "source": [
    "def bloodtype_dict(temp_dict):\n",
    "    temp = \"\"\n",
    "    temp_dict = {}\n",
    "\n",
    "    for root, dirs, files in os.walk(data_directory):\n",
    "        for text_path in files:\n",
    "            text = (os.path.join(root,text_path))\n",
    "            with open(text, 'r', encoding='utf-8', errors='ignore') as f:\n",
    "                temp += f.readlines()[5]\n",
    "\n",
    "    temp = temp.split(\"\\n\")\n",
    "    temp = [i[12:] for i in temp]\n",
    "\n",
    "    temp_dict = list_count2dict(temp)\n",
    "    temp_dict.pop('')\n",
    "    \n",
    "    print(\"bloodtype_dict\")\n",
    "    print(temp_dict)"
   ]
  },
  {
   "cell_type": "code",
   "execution_count": 5,
   "id": "9f6ff41a",
   "metadata": {},
   "outputs": [],
   "source": [
    "def province_dict(temp_dict):\n",
    "    temp = \"\"\n",
    "    temp_dict = {}\n",
    "\n",
    "    for root, dirs, files in os.walk(data_directory):\n",
    "        for text_path in files:\n",
    "            text = (os.path.join(root,text_path))\n",
    "            with open(text, 'r', encoding='utf-8', errors='ignore') as f:\n",
    "                f = f.readlines()[9]\n",
    "                for char in reversed(f):\n",
    "                    temp += char \n",
    "                    if char.isdigit():\n",
    "                        temp = temp.translate({ord(char):None})\n",
    "                        break \n",
    "\n",
    "    temp = \"\".join(reversed(temp))\n",
    "    temp = temp.split(\"\\n\")\n",
    "    temp = [i[1:] for i in temp]\n",
    "\n",
    "    temp_dict = list_count2dict(temp)\n",
    "    temp_dict.pop('')\n",
    "    \n",
    "    print(\"province_dict\")\n",
    "    print(temp_dict)"
   ]
  },
  {
   "cell_type": "code",
   "execution_count": 6,
   "id": "6b646998",
   "metadata": {},
   "outputs": [
    {
     "name": "stdout",
     "output_type": "stream",
     "text": [
      "gender_dict\n",
      "{'M': 1496, 'F': 1504, 'others': 0}\n",
      "\n",
      "bloodtype_dict\n",
      "{'O-': 392, 'A-': 367, 'AB-': 400, 'B-': 378, 'O+': 390, 'B+': 362, 'AB+': 356, 'A+': 355}\n",
      "\n",
      "province_dict\n",
      "{'Sultan Kudarat': 26, 'Occidental Mindoro': 40, 'Lanao del Sur': 27, 'Metro Manila': 371, 'Masbate': 48, 'Bohol': 25, 'Mountain Province': 35, 'Quirino': 44, 'Davao del Norte': 22, 'Davao Oriental': 27, 'Eastern Samar': 33, 'Sorsogon': 46, 'Oriental Mindoro': 41, 'Camiguin': 35, 'Marinduque': 32, 'Rizal': 45, 'Batangas': 43, 'La Union': 42, 'Cotabato': 32, 'Biliran': 27, 'Tawi-Tawi': 35, 'Bulacan': 36, 'Benguet': 33, 'Cavite': 35, 'Capiz': 36, 'Romblon': 30, 'Nueva Vizcaya': 46, 'Tarlac': 38, 'Bataan': 37, 'Abra': 42, 'Davao del Sur': 35, 'Iloilo': 38, 'Leyte': 23, 'Zambales': 27, 'Davao Occidental': 26, 'Apayao': 39, 'Palawan': 42, 'Laguna': 29, 'Nueva Ecija': 46, 'Ifugao': 44, 'Catanduanes': 32, 'Maguindanao': 29, 'Aurora': 41, 'Agusan del Sur': 20, 'Agusan del Norte': 27, 'Northern Samar': 29, 'Zamboanga del Sur': 27, 'Camarines Norte': 31, 'Sulu': 29, 'Negros Oriental': 17, 'Kalinga': 40, 'Cagayan': 55, 'Quezon': 36, 'Antique': 22, 'South Cotabato': 30, 'Misamis Occidental': 21, 'Batanes': 39, 'Guimaras': 20, 'Surigao del Sur': 28, 'Aklan': 21, 'Negros Occidental': 29, 'Misamis Oriental': 26, 'Surigao del Norte': 31, 'Siquijor': 32, 'Ilocos Norte': 35, 'Compostela Valley': 19, 'Pangasinan': 34, 'Bukidnon': 36, 'Albay': 27, 'Samar': 26, 'Sarangani': 26, 'Basilan': 24, 'Isabela': 40, 'Zamboanga del Norte': 37, 'Lanao del Norte': 32, 'Cebu': 22, 'Ilocos Sur': 37, 'Pampanga': 40, 'Dinagat Islands': 20, 'Southern Leyte': 15, 'Camarines Sur': 29, 'Zamboanga Sibugay': 31}\n"
     ]
    }
   ],
   "source": [
    "gender_dict(data_directory)\n",
    "print()\n",
    "bloodtype_dict(data_directory)\n",
    "print()\n",
    "province_dict(data_directory)"
   ]
  },
  {
   "cell_type": "code",
   "execution_count": null,
   "id": "e5319ff0",
   "metadata": {},
   "outputs": [],
   "source": []
  }
 ],
 "metadata": {
  "kernelspec": {
   "display_name": "Python 3 (ipykernel)",
   "language": "python",
   "name": "python3"
  },
  "language_info": {
   "codemirror_mode": {
    "name": "ipython",
    "version": 3
   },
   "file_extension": ".py",
   "mimetype": "text/x-python",
   "name": "python",
   "nbconvert_exporter": "python",
   "pygments_lexer": "ipython3",
   "version": "3.8.10"
  }
 },
 "nbformat": 4,
 "nbformat_minor": 5
}
